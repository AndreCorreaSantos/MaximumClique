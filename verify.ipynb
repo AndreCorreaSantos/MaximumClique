{
 "cells": [
  {
   "cell_type": "code",
   "execution_count": 23,
   "metadata": {},
   "outputs": [
    {
     "name": "stdout",
     "output_type": "stream",
     "text": [
      "Running ./local inputs/grafo_4.txt\n",
      "Execution time: 0.0028 seconds\n",
      "Output of ./local:\n",
      "\n",
      "----------------------------------------\n",
      "Summary of execution times:\n",
      "./local: 0.0028 seconds\n"
     ]
    }
   ],
   "source": [
    "import subprocess\n",
    "import time\n",
    "\n",
    "# Define the executable files and the input file\n",
    "\n",
    "\n",
    "input_file = f\"inputs/grafo_4.txt\"\n",
    "\n",
    "executables = [\n",
    "    \"./global\",\n",
    "    \"./global_omp\",\n",
    "    \"mpirun -np 2 ./global_omp_mpi\",\n",
    "    \"./local\",\n",
    "    \"./local_omp\",\n",
    "]\n",
    "\n",
    "\n",
    "# Function to run an executable and record its execution time\n",
    "def run_executable(command, input_file):\n",
    "    start_time = time.time()\n",
    "    result = subprocess.run(command.split() + [input_file], capture_output=True, text=True)\n",
    "    end_time = time.time()\n",
    "    execution_time = end_time - start_time\n",
    "    \n",
    "    print(f\"Running {' '.join(command.split() + [input_file])}\")\n",
    "    print(f\"Execution time: {execution_time:.4f} seconds\")\n",
    "    print(f\"Output of {command}:\\n{result.stdout}\")\n",
    "    if result.stderr:\n",
    "        print(f\"Errors of {command}:\\n{result.stderr}\")\n",
    "    print(\"-\" * 40)  # Separator between runs\n",
    "    \n",
    "    return execution_time\n",
    "\n",
    "# Dictionary to store execution times\n",
    "execution_times = {}\n",
    "\n",
    "# Loop through the executables and run them with the input file\n",
    "for exe in executables:\n",
    "    execution_time = run_executable(exe, input_file)\n",
    "    execution_times[exe] = execution_time\n",
    "\n",
    "# Print summary of execution times\n",
    "print(\"Summary of execution times:\")\n",
    "for exe, exec_time in execution_times.items():\n",
    "    print(f\"{exe}: {exec_time:.4f} seconds\")\n"
   ]
  }
 ],
 "metadata": {
  "kernelspec": {
   "display_name": "Python 3",
   "language": "python",
   "name": "python3"
  },
  "language_info": {
   "codemirror_mode": {
    "name": "ipython",
    "version": 3
   },
   "file_extension": ".py",
   "mimetype": "text/x-python",
   "name": "python",
   "nbconvert_exporter": "python",
   "pygments_lexer": "ipython3",
   "version": "3.10.13"
  }
 },
 "nbformat": 4,
 "nbformat_minor": 2
}
